{
 "cells": [
  {
   "cell_type": "code",
   "execution_count": 12,
   "metadata": {},
   "outputs": [],
   "source": [
    "import requests\n",
    "import webbrowser\n",
    "from urllib.parse import urlencode\n",
    "from IPython.display import Image\n",
    "import base64"
   ]
  },
  {
   "cell_type": "code",
   "execution_count": 5,
   "metadata": {},
   "outputs": [
    {
     "name": "stdout",
     "output_type": "stream",
     "text": [
      "Please grant access to your Spotify account by visiting the following URL:\n",
      "https://accounts.spotify.com/authorize?client_id=a6d8a494423946cbb0d531eed91606b1&response_type=code&redirect_uri=http%3A%2F%2Flocalhost%3A8888%2Fcallback&scope=user-read-private+user-read-email\n"
     ]
    }
   ],
   "source": [
    "CLIENT_ID = \"\"\n",
    "CLIENT_SECRET = \"\"\n",
    "REDIRECT_URI = \"http://localhost:8888/callback\"  # Update with your desired redirect URI\n",
    "\n",
    "# Step 1: Authorization - Get the authorization code\n",
    "auth_params = {\n",
    "    \"client_id\": CLIENT_ID,\n",
    "    \"response_type\": \"code\",\n",
    "    \"redirect_uri\": REDIRECT_URI,\n",
    "    \"scope\": \"user-read-private user-read-email\",  # Add additional scopes if required\n",
    "}\n",
    "auth_url = \"https://accounts.spotify.com/authorize?\" + urlencode(auth_params)\n",
    "\n",
    "# Open the authorization URL in a browser and prompt the user to grant access\n",
    "print(\"Please grant access to your Spotify account by visiting the following URL:\")\n",
    "print(auth_url)\n",
    "\n",
    "# After granting access, the user will be redirected to the provided redirect URI\n",
    "# Retrieve the authorization code from the URL (You may need to handle the redirect in your web application)\n",
    "\n",
    "# For testing purposes, you can manually copy the authorization code from the redirected URL:\n",
    "\n"
   ]
  },
  {
   "cell_type": "code",
   "execution_count": 6,
   "metadata": {},
   "outputs": [
    {
     "name": "stdout",
     "output_type": "stream",
     "text": [
      "Spotify Profile Information:\n",
      "Display Name: Kaleb Alemayehu\n",
      "Email: kalebalemayehu20@gmail.com\n",
      "User ID: 9u77qjjfh2ugl21qeziel6uia\n",
      "Profile URL: https://open.spotify.com/user/9u77qjjfh2ugl21qeziel6uia\n"
     ]
    }
   ],
   "source": [
    "authorization_code = \"AQDnvjIhhit1QJSkcoJ4Af6cYLfIpo2litCnjQUR7O6G4cCXBtfpWKQmvPfeYN2CVvTX6TLKqiVYLZcMSmsmcgWGiMU32SXQvi9_uKVCg8IH774Y6OmTP2C9H6D_YVfDq9RNTVXYxiO5A2Wkk3pMjhmU0qwFQ6PM3w2Isgz-30xa6h3bsqjfuB0I1o-bIkGpnfjIQpDEvXtu1T30kWBJXciC6_ysaw\"\n",
    "# Step 2: Exchange the authorization code for an access token\n",
    "token_url = \"https://accounts.spotify.com/api/token\"\n",
    "auth_header = base64.b64encode(f\"{CLIENT_ID}:{CLIENT_SECRET}\".encode()).decode(\"utf-8\")\n",
    "token_data = {\n",
    "    \"grant_type\": \"authorization_code\",\n",
    "    \"code\": authorization_code,\n",
    "    \"redirect_uri\": REDIRECT_URI,\n",
    "}\n",
    "token_headers = {\n",
    "    \"Authorization\": \"Basic \" + auth_header,\n",
    "}\n",
    "token_response = requests.post(token_url, data=token_data, headers=token_headers)\n",
    "\n",
    "if token_response.status_code == 200:\n",
    "    access_token = token_response.json()[\"access_token\"]\n",
    "else:\n",
    "    print(\"Failed to get access token.\")\n",
    "    exit()\n",
    "\n",
    "# Step 3: Use the access token to make requests to the Spotify API\n",
    "profile_url = \"https://api.spotify.com/v1/me\"\n",
    "profile_headers = {\n",
    "    \"Authorization\": \"Bearer \" + access_token,\n",
    "}\n",
    "profile_response = requests.get(profile_url, headers=profile_headers)\n",
    "\n",
    "if profile_response.status_code == 200:\n",
    "    profile_data = profile_response.json()\n",
    "    print(\"Spotify Profile Information:\")\n",
    "    print(\"Display Name:\", profile_data[\"display_name\"])\n",
    "    print(\"Email:\", profile_data.get(\"email\", \"N/A\"))\n",
    "    print(\"User ID:\", profile_data[\"id\"])\n",
    "    print(\"Profile URL:\", profile_data[\"external_urls\"][\"spotify\"])\n",
    "else:\n",
    "    print(\"Failed to fetch profile information.\")"
   ]
  },
  {
   "cell_type": "code",
   "execution_count": 7,
   "metadata": {},
   "outputs": [
    {
     "data": {
      "text/plain": [
       "{'display_name': 'Kaleb Alemayehu',\n",
       " 'external_urls': {'spotify': 'https://open.spotify.com/user/9u77qjjfh2ugl21qeziel6uia'},\n",
       " 'href': 'https://api.spotify.com/v1/users/9u77qjjfh2ugl21qeziel6uia',\n",
       " 'id': '9u77qjjfh2ugl21qeziel6uia',\n",
       " 'images': [{'url': 'https://i.scdn.co/image/ab67757000003b82083d8f4cbb978dfbeb161885',\n",
       "   'height': 64,\n",
       "   'width': 64},\n",
       "  {'url': 'https://i.scdn.co/image/ab6775700000ee85083d8f4cbb978dfbeb161885',\n",
       "   'height': 300,\n",
       "   'width': 300}],\n",
       " 'type': 'user',\n",
       " 'uri': 'spotify:user:9u77qjjfh2ugl21qeziel6uia',\n",
       " 'followers': {'href': None, 'total': 2},\n",
       " 'country': 'DE',\n",
       " 'product': 'free',\n",
       " 'explicit_content': {'filter_enabled': False, 'filter_locked': False},\n",
       " 'email': 'kalebalemayehu20@gmail.com'}"
      ]
     },
     "execution_count": 7,
     "metadata": {},
     "output_type": "execute_result"
    }
   ],
   "source": [
    "profile_data"
   ]
  },
  {
   "cell_type": "code",
   "execution_count": 13,
   "metadata": {},
   "outputs": [],
   "source": [
    "propic = profile_data['images'][1]['url']"
   ]
  },
  {
   "cell_type": "code",
   "execution_count": 14,
   "metadata": {},
   "outputs": [
    {
     "data": {
      "text/html": [
       "<img src=\"https://i.scdn.co/image/ab6775700000ee85083d8f4cbb978dfbeb161885\"/>"
      ],
      "text/plain": [
       "<IPython.core.display.Image object>"
      ]
     },
     "execution_count": 14,
     "metadata": {},
     "output_type": "execute_result"
    }
   ],
   "source": [
    "Image(url = propic)"
   ]
  }
 ],
 "metadata": {
  "kernelspec": {
   "display_name": "Python 3",
   "language": "python",
   "name": "python3"
  },
  "language_info": {
   "codemirror_mode": {
    "name": "ipython",
    "version": 3
   },
   "file_extension": ".py",
   "mimetype": "text/x-python",
   "name": "python",
   "nbconvert_exporter": "python",
   "pygments_lexer": "ipython3",
   "version": "3.10.0"
  },
  "orig_nbformat": 4
 },
 "nbformat": 4,
 "nbformat_minor": 2
}
