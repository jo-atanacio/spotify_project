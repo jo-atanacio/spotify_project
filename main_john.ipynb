{
 "cells": [
  {
   "cell_type": "markdown",
   "metadata": {},
   "source": [
    "## Imports"
   ]
  },
  {
   "cell_type": "code",
<<<<<<< HEAD:main_john.ipynb
   "execution_count": null,
   "metadata": {},
   "outputs": [],
=======
   "execution_count": 13,
   "metadata": {},
   "outputs": [
    {
     "data": {
      "text/plain": [
       "True"
      ]
     },
     "execution_count": 13,
     "metadata": {},
     "output_type": "execute_result"
    }
   ],
>>>>>>> 70677e4aa29ad726a623c5ebcd9ac733fe0bf316:main.ipynb
   "source": [
    "from dotenv import load_dotenv\n",
    "import os\n",
    "from spotify import *\n",
    "from IPython.display import Image\n",
    "\n",
    "# Load environment variables from the .env file\n",
    "load_dotenv()"
   ]
  },
  {
   "cell_type": "markdown",
   "metadata": {},
   "source": [
    "## Setup\n",
    "- Auth and Access Token\n",
    "- Header with Token\n",
    "\n",
    "\n",
    "create a \".env\" file first, and write the following:\n",
    "\n",
    "- CLIENT_ID = ...\n",
    "- CLIENT_SECRET = ..."
   ]
  },
  {
   "cell_type": "code",
<<<<<<< HEAD:main_john.ipynb
   "execution_count": null,
=======
   "execution_count": 3,
>>>>>>> 70677e4aa29ad726a623c5ebcd9ac733fe0bf316:main.ipynb
   "metadata": {},
   "outputs": [],
   "source": [
    "cid = \"a6d8a494423946cbb0d531eed91606b1\"#os.getenv(\"CLIENT_ID\")\n",
    "secret = \"c0a61fee2fa646588bdeb4ab275251c8\" #os.getenv(\"CLIENT_SECRET\")"
   ]
  },
  {
   "cell_type": "code",
<<<<<<< HEAD:main_john.ipynb
   "execution_count": null,
=======
   "execution_count": 4,
   "metadata": {},
   "outputs": [
    {
     "name": "stdout",
     "output_type": "stream",
     "text": [
      "a6d8a494423946cbb0d531eed91606b1\n",
      "c0a61fee2fa646588bdeb4ab275251c8\n"
     ]
    }
   ],
   "source": [
    "print(cid)\n",
    "print(secret)"
   ]
  },
  {
   "cell_type": "code",
   "execution_count": 7,
>>>>>>> 70677e4aa29ad726a623c5ebcd9ac733fe0bf316:main.ipynb
   "metadata": {},
   "outputs": [],
   "source": [
    "sp = Spotify(client_id=cid, client_secret=secret)"
   ]
  },
  {
   "cell_type": "code",
<<<<<<< HEAD:main_john.ipynb
   "execution_count": null,
=======
   "execution_count": 8,
>>>>>>> 70677e4aa29ad726a623c5ebcd9ac733fe0bf316:main.ipynb
   "metadata": {},
   "outputs": [],
   "source": [
    "## get host from link in browser\n",
    "## comes after ..code=...\n",
    "my_code = \"AQDF8kd34awjZyxArSImek4z_CJYyvA7ic8_SUeeKR8BALvWDKhbnzvnjxMrCYSD2TDYdXA0s4bKcR-Dz-jj3cHJLbaAz97f12MfFTXvlkvPB2u4IKbsuXPGANI-NUOsAc66I39iTBQApCbCSKsyunqu-CTxSAEB1l-aaCKjzaJ5JhQBTiazdlAzgX67xb51oQ\""
   ]
  },
  {
   "cell_type": "code",
<<<<<<< HEAD:main_john.ipynb
   "execution_count": null,
=======
   "execution_count": 9,
>>>>>>> 70677e4aa29ad726a623c5ebcd9ac733fe0bf316:main.ipynb
   "metadata": {},
   "outputs": [],
   "source": [
    "## Load the code into the object, and get API Token\n",
    "sp.load_code(my_code)"
   ]
  },
  {
   "cell_type": "markdown",
   "metadata": {},
   "source": [
    "## Methods"
   ]
  },
  {
   "cell_type": "code",
<<<<<<< HEAD:main_john.ipynb
   "execution_count": null,
   "metadata": {},
   "outputs": [],
=======
   "execution_count": 11,
   "metadata": {},
   "outputs": [
    {
     "data": {
      "text/plain": [
       "'The Weeknd, Weekend, Weekend'"
      ]
     },
     "execution_count": 11,
     "metadata": {},
     "output_type": "execute_result"
    }
   ],
>>>>>>> 70677e4aa29ad726a623c5ebcd9ac733fe0bf316:main.ipynb
   "source": [
    "sp.search_for_artist(\"Weekend\")"
   ]
  },
  {
   "cell_type": "code",
<<<<<<< HEAD:main_john.ipynb
   "execution_count": null,
   "metadata": {},
   "outputs": [],
=======
   "execution_count": 18,
   "metadata": {},
   "outputs": [
    {
     "data": {
      "text/html": [
       "<img src=\"https://i.scdn.co/image/ab6775700000ee85083d8f4cbb978dfbeb161885\"/>"
      ],
      "text/plain": [
       "<IPython.core.display.Image object>"
      ]
     },
     "execution_count": 18,
     "metadata": {},
     "output_type": "execute_result"
    }
   ],
>>>>>>> 70677e4aa29ad726a623c5ebcd9ac733fe0bf316:main.ipynb
   "source": [
    "sp.my_profile()\n",
    "pic = sp.my_profile()\n",
    "Image(url = pic['ProfilePicture'])\n",
    "\n",
    "\n"
   ]
  },
  {
   "cell_type": "code",
<<<<<<< HEAD:main_john.ipynb
   "execution_count": null,
   "metadata": {},
   "outputs": [],
=======
   "execution_count": 21,
   "metadata": {},
   "outputs": [
    {
     "data": {
      "text/plain": [
       "{'Desse Lay': 'Various Artists',\n",
       " 'Kidus Michael (feat. Zemarit Mirtnesh Tilahun)': 'Orthodox Tewahedo',\n",
       " 'Anurognal Cherinetih (feat. Zemarit Mirtnesh Tilahun)': 'Orthodox Tewahedo',\n",
       " 'Komkugne (feat. Artist Yegerem Dejene & Deacon Adugna Fikadu)': 'Orthodox Tewahedo',\n",
       " 'Berta': 'Yohana',\n",
       " 'Yethiopia Amlak': 'Zerubabbel Molla',\n",
       " 'Behager New': 'Zerubabbel Molla',\n",
       " 'Babure': 'Lafonte',\n",
       " 'ጥቁር አንበሳ/Tikur Anbessa': 'Dagmawi Wube',\n",
       " 'Money Trees': 'Kendrick Lamar',\n",
       " 'Ele Yaba': 'Various Artists',\n",
       " 'Kunjina': 'Dawit Mellesse',\n",
       " 'Yefikir Gedam': 'Neway Debebe',\n",
       " 'Salayish': 'Nhatty Man',\n",
       " 'Becky': 'Aminé',\n",
       " 'Koya Babo': 'Gossaye Tesfaye',\n",
       " 'Champagne Shots': 'Sainté',\n",
       " 'BeEfrata (feat. Artist Yegerem Dejene & Deacon Adugna Fikadu)': 'Orthodox Tewahedo',\n",
       " 'Yeneoh Kalkidan (feat. Zemarit Mirtnesh Tilahun)': 'Orthodox Tewahedo',\n",
       " 'I Faram Gami, I Faram': 'Jemberu Demeke'}"
      ]
     },
     "execution_count": 21,
     "metadata": {},
     "output_type": "execute_result"
    }
   ],
>>>>>>> 70677e4aa29ad726a623c5ebcd9ac733fe0bf316:main.ipynb
   "source": [
    "sp.my_top_songs(\"long_term\")"
   ]
  }
 ],
 "metadata": {
  "kernelspec": {
   "display_name": "Python 3",
   "language": "python",
   "name": "python3"
  },
  "language_info": {
   "codemirror_mode": {
    "name": "ipython",
    "version": 3
   },
   "file_extension": ".py",
   "mimetype": "text/x-python",
   "name": "python",
   "nbconvert_exporter": "python",
   "pygments_lexer": "ipython3",
   "version": "3.10.0"
  },
  "orig_nbformat": 4
 },
 "nbformat": 4,
 "nbformat_minor": 2
}
